{
 "cells": [
  {
   "cell_type": "markdown",
   "metadata": {},
   "source": [
    "**DSND Capstone Poject: Code Snippet Classification**\n",
    "\n",
    "In this project, we plan to classify code snippets into selected set of programming languages from Stackoverflow. The dataset for this project is extracted from Stackoverflow for the following programming languages: \n",
    "\n",
    "1. PHP\n",
    "2. Ruby\n",
    "3. HTML\n",
    "4. C#\n",
    "5. C++\n",
    "6. Javascript \n",
    "7. Swift \n",
    "8. SQL \n",
    "9. Perl\n",
    "10. Python \n",
    "\n",
    "This project address many real challanges such as Codes tagging in platforms such as Github or Stackoverflow. "
   ]
  },
  {
   "cell_type": "code",
   "execution_count": 22,
   "metadata": {},
   "outputs": [],
   "source": [
    "import pandas as pd \n",
    "import numpy as np \n",
    "import re\n",
    "from sklearn.feature_extraction.text import TfidfVectorizer\n",
    "from sklearn.model_selection import train_test_split\n",
    "from sklearn.naive_bayes import MultinomialNB, BernoulliNB\n",
    "from sklearn.svm import SVC\n",
    "from sklearn.linear_model import LogisticRegression\n",
    "from sklearn.ensemble import RandomForestClassifier\n",
    "from sklearn.svm import LinearSVC\n",
    "from sklearn.tree import DecisionTreeClassifier\n",
    "from sklearn.ensemble import VotingClassifier\n",
    "import time\n",
    "from sklearn.metrics import classification_report,accuracy_score"
   ]
  },
  {
   "cell_type": "markdown",
   "metadata": {},
   "source": [
    "***Load the dataset***"
   ]
  },
  {
   "cell_type": "code",
   "execution_count": 2,
   "metadata": {},
   "outputs": [],
   "source": [
    "php_df = pd.read_csv('php.csv')\n",
    "sql_df = pd.read_csv('sql.csv')\n",
    "cPLusPlus_df = pd.read_csv('c++.csv')\n",
    "cSharp_df = pd.read_csv('c#.csv')\n",
    "html_df = pd.read_csv('html.csv')\n",
    "javascript_df = pd.read_csv('javascript.csv')\n",
    "ruby_df = pd.read_csv('ruby.csv')\n",
    "python_df = pd.read_csv('python.csv')\n",
    "swift_df = pd.read_csv('swift.csv')\n",
    "perl_df = pd.read_csv('perl.csv')"
   ]
  },
  {
   "cell_type": "markdown",
   "metadata": {},
   "source": [
    "**Clean the data and tags**\n",
    "\n",
    "The first step of the work is cleanup the data and remove the unncessary texts and remove additional tags."
   ]
  },
  {
   "cell_type": "code",
   "execution_count": 3,
   "metadata": {},
   "outputs": [],
   "source": [
    "def cleanData(df,lang):\n",
    "    df['Tags'] = lang\n",
    "    df['Body'] = df['Body'].str.replace('&lt;',' ')\n",
    "    df['Body'] = df['Body'].str.replace('&gt;',' ')\n",
    "    df['Body'] = df['Body'].str.replace('\\n',' ')\n",
    "    df['Body'] = df['Body'].str.replace('\"',' ')\n",
    "    df['Body'] = df['Body'].str.replace(';','')\n",
    "    df['Body'] = df['Body'].str.replace('$','')\n",
    "    df['Body'] = df['Body'].str.replace('=',' ')\n",
    "    df['Body'] = df['Body'].str.replace(',','')\n",
    "    df['Body'] = df['Body'].str.replace('.',' ')\n",
    "    df['Body'] = df['Body'].str.replace(':',' ')\n",
    "    df['Body'] = df['Body'].str.replace('(',' ')\n",
    "    df['Body'] = df['Body'].str.replace(')',' ')\n",
    "    df['Body'] = df['Body'].str.replace('}',' ')\n",
    "    df['Body'] = df['Body'].str.replace('{',' ')  \n",
    "    df['Body'] = df['Body'].str.replace('\\d+', ' ') # remove digits\n",
    "    \n",
    "    for index, row in df.iterrows():\n",
    "        find_index = 0 \n",
    "        body = row['Body']\n",
    "        final_body = \"\"\n",
    "        while find_index < len(body):\n",
    "            code = body.find('<code>',find_index)+6\n",
    "            end_code = body.find('</code>',find_index)\n",
    "            if code != -1 and end_code != -1:\n",
    "                final_body += body[code:end_code] + \" \"\n",
    "                find_index = end_code+7\n",
    "            else:\n",
    "                break\n",
    "        final_body = final_body.replace('>','')\n",
    "        final_body = final_body.strip()\n",
    "        final_body = re.sub(' +', ' ',final_body)\n",
    "        if len(final_body) != 0:\n",
    "            df.loc[index, 'Body'] = final_body\n",
    "    print(lang, 'has been processed ')\n",
    "    return df"
   ]
  },
  {
   "cell_type": "code",
   "execution_count": 4,
   "metadata": {},
   "outputs": [
    {
     "name": "stdout",
     "output_type": "stream",
     "text": [
      "php has been processed \n",
      "sql has been processed \n",
      "c++ has been processed \n",
      "c# has been processed \n",
      "html has been processed \n",
      "javascript has been processed \n",
      "ruby has been processed \n",
      "python has been processed \n",
      "swift has been processed \n",
      "perl has been processed \n"
     ]
    }
   ],
   "source": [
    "php_df = cleanData(php_df,'php')\n",
    "sql_df = cleanData(sql_df,'sql')\n",
    "cPLusPlus_df = cleanData(cPLusPlus_df,'c++')\n",
    "cSharp_df = cleanData(cSharp_df,'c#')\n",
    "html_df = cleanData(html_df,'html')\n",
    "javascript_df = cleanData(javascript_df,'javascript')\n",
    "ruby_df = cleanData(ruby_df,'ruby')\n",
    "python_df = cleanData(python_df,'python')\n",
    "swift_df = cleanData(swift_df,'swift')\n",
    "perl_df = cleanData(perl_df,'perl')"
   ]
  },
  {
   "cell_type": "markdown",
   "metadata": {},
   "source": [
    "**Merge all Datasets**"
   ]
  },
  {
   "cell_type": "code",
   "execution_count": 6,
   "metadata": {},
   "outputs": [
    {
     "data": {
      "text/html": [
       "<div>\n",
       "<style scoped>\n",
       "    .dataframe tbody tr th:only-of-type {\n",
       "        vertical-align: middle;\n",
       "    }\n",
       "\n",
       "    .dataframe tbody tr th {\n",
       "        vertical-align: top;\n",
       "    }\n",
       "\n",
       "    .dataframe thead th {\n",
       "        text-align: right;\n",
       "    }\n",
       "</style>\n",
       "<table border=\"1\" class=\"dataframe\">\n",
       "  <thead>\n",
       "    <tr style=\"text-align: right;\">\n",
       "      <th></th>\n",
       "      <th>code_length</th>\n",
       "    </tr>\n",
       "  </thead>\n",
       "  <tbody>\n",
       "    <tr>\n",
       "      <th>count</th>\n",
       "      <td>200000.000000</td>\n",
       "    </tr>\n",
       "    <tr>\n",
       "      <th>mean</th>\n",
       "      <td>686.897110</td>\n",
       "    </tr>\n",
       "    <tr>\n",
       "      <th>std</th>\n",
       "      <td>1198.438656</td>\n",
       "    </tr>\n",
       "    <tr>\n",
       "      <th>min</th>\n",
       "      <td>1.000000</td>\n",
       "    </tr>\n",
       "    <tr>\n",
       "      <th>25%</th>\n",
       "      <td>145.000000</td>\n",
       "    </tr>\n",
       "    <tr>\n",
       "      <th>50%</th>\n",
       "      <td>344.000000</td>\n",
       "    </tr>\n",
       "    <tr>\n",
       "      <th>75%</th>\n",
       "      <td>755.000000</td>\n",
       "    </tr>\n",
       "    <tr>\n",
       "      <th>max</th>\n",
       "      <td>25137.000000</td>\n",
       "    </tr>\n",
       "  </tbody>\n",
       "</table>\n",
       "</div>"
      ],
      "text/plain": [
       "         code_length\n",
       "count  200000.000000\n",
       "mean      686.897110\n",
       "std      1198.438656\n",
       "min         1.000000\n",
       "25%       145.000000\n",
       "50%       344.000000\n",
       "75%       755.000000\n",
       "max     25137.000000"
      ]
     },
     "execution_count": 6,
     "metadata": {},
     "output_type": "execute_result"
    }
   ],
   "source": [
    "final_df = pd.DataFrame()\n",
    "final_df = final_df.append([sql_df,html_df,php_df,ruby_df,swift_df,cSharp_df,perl_df,javascript_df,cPLusPlus_df,python_df], ignore_index=True)\n",
    "final_df['code_length']  = final_df['Body'].str.len()\n",
    "final_df.describe()"
   ]
  },
  {
   "cell_type": "markdown",
   "metadata": {},
   "source": [
    "**Remove Outliers**"
   ]
  },
  {
   "cell_type": "code",
   "execution_count": 7,
   "metadata": {},
   "outputs": [
    {
     "data": {
      "text/html": [
       "<div>\n",
       "<style scoped>\n",
       "    .dataframe tbody tr th:only-of-type {\n",
       "        vertical-align: middle;\n",
       "    }\n",
       "\n",
       "    .dataframe tbody tr th {\n",
       "        vertical-align: top;\n",
       "    }\n",
       "\n",
       "    .dataframe thead th {\n",
       "        text-align: right;\n",
       "    }\n",
       "</style>\n",
       "<table border=\"1\" class=\"dataframe\">\n",
       "  <thead>\n",
       "    <tr style=\"text-align: right;\">\n",
       "      <th></th>\n",
       "      <th>code_length</th>\n",
       "    </tr>\n",
       "  </thead>\n",
       "  <tbody>\n",
       "    <tr>\n",
       "      <th>count</th>\n",
       "      <td>147241.000000</td>\n",
       "    </tr>\n",
       "    <tr>\n",
       "      <th>mean</th>\n",
       "      <td>359.791064</td>\n",
       "    </tr>\n",
       "    <tr>\n",
       "      <th>std</th>\n",
       "      <td>245.219108</td>\n",
       "    </tr>\n",
       "    <tr>\n",
       "      <th>min</th>\n",
       "      <td>51.000000</td>\n",
       "    </tr>\n",
       "    <tr>\n",
       "      <th>25%</th>\n",
       "      <td>156.000000</td>\n",
       "    </tr>\n",
       "    <tr>\n",
       "      <th>50%</th>\n",
       "      <td>297.000000</td>\n",
       "    </tr>\n",
       "    <tr>\n",
       "      <th>75%</th>\n",
       "      <td>518.000000</td>\n",
       "    </tr>\n",
       "    <tr>\n",
       "      <th>max</th>\n",
       "      <td>999.000000</td>\n",
       "    </tr>\n",
       "  </tbody>\n",
       "</table>\n",
       "</div>"
      ],
      "text/plain": [
       "         code_length\n",
       "count  147241.000000\n",
       "mean      359.791064\n",
       "std       245.219108\n",
       "min        51.000000\n",
       "25%       156.000000\n",
       "50%       297.000000\n",
       "75%       518.000000\n",
       "max       999.000000"
      ]
     },
     "execution_count": 7,
     "metadata": {},
     "output_type": "execute_result"
    }
   ],
   "source": [
    "trimmed_df = final_df[(final_df['code_length'] > 50 ) & (final_df['code_length'] < 1000)]\n",
    "trimmed_df.describe()"
   ]
  },
  {
   "cell_type": "markdown",
   "metadata": {},
   "source": [
    "***Save the processed result***"
   ]
  },
  {
   "cell_type": "code",
   "execution_count": 8,
   "metadata": {},
   "outputs": [],
   "source": [
    "trimmed_df.to_pickle(\"processed_data.pkl\")"
   ]
  },
  {
   "cell_type": "markdown",
   "metadata": {},
   "source": [
    "***Data Exploration***"
   ]
  },
  {
   "cell_type": "markdown",
   "metadata": {},
   "source": [
    "Analyze the number of samples by Programming Language "
   ]
  },
  {
   "cell_type": "code",
   "execution_count": 10,
   "metadata": {},
   "outputs": [
    {
     "data": {
      "text/plain": [
       "<matplotlib.axes._subplots.AxesSubplot at 0x1d300a1fa20>"
      ]
     },
     "execution_count": 10,
     "metadata": {},
     "output_type": "execute_result"
    },
    {
     "data": {
      "image/png": "[encoded data removed]",
      "text/plain": [
       "<Figure size 432x288 with 1 Axes>"
      ]
     },
     "metadata": {
      "needs_background": "light"
     },
     "output_type": "display_data"
    }
   ],
   "source": [
    "trimmed_df.groupby(by='Tags')['Body'].count().plot(kind='bar')"
   ]
  },
  {
   "cell_type": "markdown",
   "metadata": {},
   "source": [
    "After processing the data, we are left with somewhat balanced data for each language. "
   ]
  },
  {
   "cell_type": "markdown",
   "metadata": {},
   "source": [
    "Analyze the code length by programming Language"
   ]
  },
  {
   "cell_type": "code",
   "execution_count": 11,
   "metadata": {},
   "outputs": [
    {
     "data": {
      "text/plain": [
       "<matplotlib.axes._subplots.AxesSubplot at 0x1d3009ef710>"
      ]
     },
     "execution_count": 11,
     "metadata": {},
     "output_type": "execute_result"
    },
    {
     "data": {
      "image/png": "[encoded data removed]",
      "text/plain": [
       "<Figure size 432x288 with 1 Axes>"
      ]
     },
     "metadata": {
      "needs_background": "light"
     },
     "output_type": "display_data"
    }
   ],
   "source": [
    "trimmed_df.boxplot(column=['code_length'], by='Tags')"
   ]
  },
  {
   "cell_type": "markdown",
   "metadata": {},
   "source": [
    "The median length for each code snippet per language is between 200 char and 400 char "
   ]
  },
  {
   "cell_type": "code",
   "execution_count": 12,
   "metadata": {},
   "outputs": [
    {
     "data": {
      "text/html": [
       "<div>\n",
       "<style scoped>\n",
       "    .dataframe tbody tr th:only-of-type {\n",
       "        vertical-align: middle;\n",
       "    }\n",
       "\n",
       "    .dataframe tbody tr th {\n",
       "        vertical-align: top;\n",
       "    }\n",
       "\n",
       "    .dataframe thead th {\n",
       "        text-align: right;\n",
       "    }\n",
       "</style>\n",
       "<table border=\"1\" class=\"dataframe\">\n",
       "  <thead>\n",
       "    <tr style=\"text-align: right;\">\n",
       "      <th></th>\n",
       "      <th>Body</th>\n",
       "      <th>Tags</th>\n",
       "      <th>code_length</th>\n",
       "    </tr>\n",
       "  </thead>\n",
       "  <tbody>\n",
       "    <tr>\n",
       "      <th>30830</th>\n",
       "      <td>React Component new render !DOCTYPE html html ...</td>\n",
       "      <td>html</td>\n",
       "      <td>843</td>\n",
       "    </tr>\n",
       "    <tr>\n",
       "      <th>141336</th>\n",
       "      <td>var ContractWindow function showContract Contr...</td>\n",
       "      <td>javascript</td>\n",
       "      <td>345</td>\n",
       "    </tr>\n",
       "    <tr>\n",
       "      <th>80259</th>\n",
       "      <td>override func prepare for segue UIStoryboardSe...</td>\n",
       "      <td>swift</td>\n",
       "      <td>697</td>\n",
       "    </tr>\n",
       "    <tr>\n",
       "      <th>158372</th>\n",
       "      <td>insertRow insertCell function tabappend player...</td>\n",
       "      <td>javascript</td>\n",
       "      <td>553</td>\n",
       "    </tr>\n",
       "    <tr>\n",
       "      <th>102004</th>\n",
       "      <td>private Image GridMap private double ZoomFacto...</td>\n",
       "      <td>c#</td>\n",
       "      <td>315</td>\n",
       "    </tr>\n",
       "    <tr>\n",
       "      <th>141533</th>\n",
       "      <td>script type text/template id commentsTemplate ...</td>\n",
       "      <td>javascript</td>\n",
       "      <td>169</td>\n",
       "    </tr>\n",
       "    <tr>\n",
       "      <th>68555</th>\n",
       "      <td>rails g migration AddEntreeToVenue entree belo...</td>\n",
       "      <td>ruby</td>\n",
       "      <td>304</td>\n",
       "    </tr>\n",
       "    <tr>\n",
       "      <th>30334</th>\n",
       "      <td>HTTP Content-Type of video/ gpp is not support...</td>\n",
       "      <td>html</td>\n",
       "      <td>182</td>\n",
       "    </tr>\n",
       "    <tr>\n",
       "      <th>159357</th>\n",
       "      <td>for var i i this bucket_names length i++ if th...</td>\n",
       "      <td>javascript</td>\n",
       "      <td>474</td>\n",
       "    </tr>\n",
       "    <tr>\n",
       "      <th>23828</th>\n",
       "      <td>string html using var client new WebClient htm...</td>\n",
       "      <td>html</td>\n",
       "      <td>436</td>\n",
       "    </tr>\n",
       "  </tbody>\n",
       "</table>\n",
       "</div>"
      ],
      "text/plain": [
       "                                                     Body        Tags  \\\n",
       "30830   React Component new render !DOCTYPE html html ...        html   \n",
       "141336  var ContractWindow function showContract Contr...  javascript   \n",
       "80259   override func prepare for segue UIStoryboardSe...       swift   \n",
       "158372  insertRow insertCell function tabappend player...  javascript   \n",
       "102004  private Image GridMap private double ZoomFacto...          c#   \n",
       "141533  script type text/template id commentsTemplate ...  javascript   \n",
       "68555   rails g migration AddEntreeToVenue entree belo...        ruby   \n",
       "30334   HTTP Content-Type of video/ gpp is not support...        html   \n",
       "159357  for var i i this bucket_names length i++ if th...  javascript   \n",
       "23828   string html using var client new WebClient htm...        html   \n",
       "\n",
       "        code_length  \n",
       "30830           843  \n",
       "141336          345  \n",
       "80259           697  \n",
       "158372          553  \n",
       "102004          315  \n",
       "141533          169  \n",
       "68555           304  \n",
       "30334           182  \n",
       "159357          474  \n",
       "23828           436  "
      ]
     },
     "execution_count": 12,
     "metadata": {},
     "output_type": "execute_result"
    }
   ],
   "source": [
    "trimmed_df.sample(10)"
   ]
  },
  {
   "cell_type": "markdown",
   "metadata": {},
   "source": [
    "***Features Engineering***"
   ]
  },
  {
   "cell_type": "code",
   "execution_count": 13,
   "metadata": {},
   "outputs": [],
   "source": [
    "def to_tfidf_list(feature_text_list):\n",
    "    tfidf_vector = TfidfVectorizer(max_features=1000,ngram_range =(1,2),lowercase=True,stop_words='english',use_idf=True)\n",
    "    train_tfidf = tfidf_vector.fit_transform(feature_text_list)    \n",
    "    return ( train_tfidf , tfidf_vector )\n",
    "\n",
    "def transform_tfidf(test_text, tfidf_vector):\n",
    "    test_tfidf = tfidf_vector.transform(test_text)\n",
    "    return test_tfidf\n",
    "\n",
    "def prepareData(texts, classes_dict):\n",
    "\n",
    "    train_texts,test_texts,train_classes, test_classes = train_test_split(texts,classes_dict,test_size=0.33,random_state=42)\n",
    "    train_tfidf, vect_trans = to_tfidf_list(train_texts)\n",
    "    test_tfidf = transform_tfidf(test_texts, vect_trans)\n",
    "    print(\"Training Size: \",train_texts.shape)\n",
    "    print(\"Test Size: \",test_texts.shape)    \n",
    "    \n",
    "    return vect_trans,train_tfidf,test_tfidf,train_classes, test_classes"
   ]
  },
  {
   "cell_type": "code",
   "execution_count": 16,
   "metadata": {},
   "outputs": [
    {
     "name": "stdout",
     "output_type": "stream",
     "text": [
      "Training Size:  (98651,)\n",
      "Test Size:  (48590,)\n"
     ]
    }
   ],
   "source": [
    "texts = trimmed_df['Body']\n",
    "classes_dict = trimmed_df['Tags']\n",
    "\n",
    "vect_trans,train_tfidf,test_tfidf,train_classes, test_classes = prepareData(texts, classes_dict)"
   ]
  },
  {
   "cell_type": "code",
   "execution_count": null,
   "metadata": {},
   "outputs": [],
   "source": [
    "vect_trans.get_feature_names()"
   ]
  },
  {
   "cell_type": "markdown",
   "metadata": {},
   "source": [
    "***Prepare the classifier to use***"
   ]
  },
  {
   "cell_type": "code",
   "execution_count": 50,
   "metadata": {},
   "outputs": [],
   "source": [
    "def getClassifier():\n",
    "    clf1 = MultinomialNB()\n",
    "    clf2 = LinearSVC(C=2)\n",
    "    #clf3 = LogisticRegression(C=32)\n",
    "    #clf = VotingClassifier(estimators=[('mb',clf1),('lsvc',clf2),('lr',clf3)]);\n",
    "    return clf2\n",
    "\n",
    "clf = getClassifier()"
   ]
  },
  {
   "cell_type": "code",
   "execution_count": 51,
   "metadata": {},
   "outputs": [],
   "source": [
    "def train(clf, train_tfidf, train_classes):\n",
    "    mid_start_time = time.time()\n",
    "    clf.fit(train_tfidf, train_classes)\n",
    "    print(\"Training: Done in %f seconds\" % (time.time() - mid_start_time))\n",
    "    \n",
    "def predict(clf, test_tfidf):\n",
    "    test_pred = clf.predict(test_tfidf)\n",
    "    return test_pred"
   ]
  },
  {
   "cell_type": "markdown",
   "metadata": {},
   "source": [
    "***Train the Classifier***"
   ]
  },
  {
   "cell_type": "code",
   "execution_count": 52,
   "metadata": {},
   "outputs": [
    {
     "name": "stdout",
     "output_type": "stream",
     "text": [
      "Training: Done in 13.005526 seconds\n"
     ]
    }
   ],
   "source": [
    "train(clf,train_tfidf, train_classes)"
   ]
  },
  {
   "cell_type": "markdown",
   "metadata": {},
   "source": [
    "***Predict on the Testing Data***"
   ]
  },
  {
   "cell_type": "code",
   "execution_count": 53,
   "metadata": {},
   "outputs": [],
   "source": [
    "test_pred = predict(clf, test_tfidf)"
   ]
  },
  {
   "cell_type": "markdown",
   "metadata": {},
   "source": [
    "***Evaluate The Result of the Model***\n",
    "\n",
    "To evaulate the model, we will look at the precision, recall and f1-score"
   ]
  },
  {
   "cell_type": "code",
   "execution_count": 54,
   "metadata": {},
   "outputs": [
    {
     "name": "stdout",
     "output_type": "stream",
     "text": [
      "Accuracy:  0.7163819715990944\n"
     ]
    }
   ],
   "source": [
    "print(\"Accuracy: \", accuracy_score(test_classes, test_pred))"
   ]
  },
  {
   "cell_type": "code",
   "execution_count": 55,
   "metadata": {},
   "outputs": [
    {
     "name": "stdout",
     "output_type": "stream",
     "text": [
      "              precision    recall  f1-score   support\n",
      "\n",
      "          c#       0.70      0.76      0.73      4832\n",
      "         c++       0.85      0.85      0.85      4817\n",
      "        html       0.56      0.59      0.58      4602\n",
      "  javascript       0.59      0.60      0.60      4936\n",
      "        perl       0.70      0.67      0.68      5144\n",
      "         php       0.66      0.59      0.62      4977\n",
      "      python       0.76      0.79      0.78      4940\n",
      "        ruby       0.82      0.76      0.79      4855\n",
      "         sql       0.64      0.69      0.66      4932\n",
      "       swift       0.90      0.88      0.89      4555\n",
      "\n",
      "   micro avg       0.72      0.72      0.72     48590\n",
      "   macro avg       0.72      0.72      0.72     48590\n",
      "weighted avg       0.72      0.72      0.72     48590\n",
      "\n"
     ]
    }
   ],
   "source": [
    "print(classification_report(test_classes, test_pred))"
   ]
  },
  {
   "cell_type": "markdown",
   "metadata": {},
   "source": [
    "***Save the Model For Prediction***"
   ]
  },
  {
   "cell_type": "code",
   "execution_count": 57,
   "metadata": {},
   "outputs": [
    {
     "data": {
      "text/plain": [
       "['classifier.pkl']"
      ]
     },
     "execution_count": 57,
     "metadata": {},
     "output_type": "execute_result"
    }
   ],
   "source": [
    "from sklearn.externals import joblib\n",
    "joblib.dump(vect_trans, \"tfidfVectorizer.pkl\")\n",
    "joblib.dump(clf, \"classifier.pkl\")"
   ]
  },
  {
   "cell_type": "markdown",
   "metadata": {},
   "source": [
    "### Conculsion \n",
    "\n",
    "From the result above, we have came a long way to predict code snippet language. Because of the nature of Stackoverflow dataset where a question can have multiple code snippets from multiple languages it become diffcult to pick just own language."
   ]
  }
 ],
 "metadata": {
  "kernelspec": {
   "display_name": "Python 3",
   "language": "python",
   "name": "python3"
  },
  "language_info": {
   "codemirror_mode": {
    "name": "ipython",
    "version": 3
   },
   "file_extension": ".py",
   "mimetype": "text/x-python",
   "name": "python",
   "nbconvert_exporter": "python",
   "pygments_lexer": "ipython3",
   "version": "3.6.7"
  }
 },
 "nbformat": 4,
 "nbformat_minor": 2
}
